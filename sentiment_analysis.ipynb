{
  "metadata": {
    "language_info": {
      "codemirror_mode": {
        "name": "python",
        "version": 3
      },
      "file_extension": ".py",
      "mimetype": "text/x-python",
      "name": "python",
      "nbconvert_exporter": "python",
      "pygments_lexer": "ipython3",
      "version": "3.8"
    },
    "kernelspec": {
      "name": "python",
      "display_name": "Python (Pyodide)",
      "language": "python"
    },
    "colab": {
      "provenance": []
    }
  },
  "nbformat_minor": 0,
  "nbformat": 4,
  "cells": [
    {
      "cell_type": "markdown",
      "source": [
        "# Load the Book"
      ],
      "metadata": {
        "id": "7xQS1YESTdHd"
      }
    },
    {
      "cell_type": "code",
      "source": [
        "with open('miracle_in_the_andes.txt', 'r') as file:\n",
        "    book = file.read()"
      ],
      "metadata": {
        "trusted": true,
        "id": "9HsTrIQHTdHe"
      },
      "execution_count": 1,
      "outputs": []
    },
    {
      "cell_type": "markdown",
      "source": [
        "## The most used words (non-articles)"
      ],
      "metadata": {
        "id": "kYHagWtNTdHf"
      }
    },
    {
      "cell_type": "code",
      "source": [
        "import re\n",
        "\n",
        "pattern  = re.compile(\"[a-zA-Z]+\")\n",
        "findings = re.findall(pattern, book)\n",
        "findings[:5]"
      ],
      "metadata": {
        "trusted": true,
        "colab": {
          "base_uri": "https://localhost:8080/"
        },
        "id": "z1zUlIpQTdHg",
        "outputId": "53925cd0-6b68-4f7c-d8b8-956c9d221204"
      },
      "execution_count": 2,
      "outputs": [
        {
          "output_type": "execute_result",
          "data": {
            "text/plain": [
              "['Chapter', 'Before', 'IT', 'WAS', 'FRIDAY']"
            ]
          },
          "metadata": {},
          "execution_count": 2
        }
      ]
    },
    {
      "cell_type": "code",
      "source": [
        "counts = {}\n",
        "for word in findings:\n",
        "    if word.lower() not in counts:\n",
        "        counts[word.lower()] = 1\n",
        "    else:\n",
        "        counts[word.lower()] += 1\n",
        "\n",
        "sorted_counts = [(value, key) for (key, value) in counts.items()]\n",
        "sorted_counts = sorted(sorted_counts, reverse=True)\n",
        "sorted_counts[:5]"
      ],
      "metadata": {
        "trusted": true,
        "colab": {
          "base_uri": "https://localhost:8080/"
        },
        "id": "ERCTPPjZTdHh",
        "outputId": "d7f0dda4-db26-4fad-f09d-fcf80c9132ba"
      },
      "execution_count": 3,
      "outputs": [
        {
          "output_type": "execute_result",
          "data": {
            "text/plain": [
              "[(5346, 'the'), (2795, 'and'), (2729, 'i'), (2400, 'to'), (2060, 'of')]"
            ]
          },
          "metadata": {},
          "execution_count": 3
        }
      ]
    },
    {
      "cell_type": "code",
      "source": [
        "!pip3 install nltk"
      ],
      "metadata": {
        "trusted": true,
        "colab": {
          "base_uri": "https://localhost:8080/"
        },
        "id": "w2ryFEYyTdHh",
        "outputId": "d844fdb2-e65f-4268-d4f4-4bed1d27e095"
      },
      "execution_count": 5,
      "outputs": [
        {
          "output_type": "stream",
          "name": "stdout",
          "text": [
            "Looking in indexes: https://pypi.org/simple, https://us-python.pkg.dev/colab-wheels/public/simple/\n",
            "Requirement already satisfied: nltk in /usr/local/lib/python3.8/dist-packages (3.7)\n",
            "Requirement already satisfied: tqdm in /usr/local/lib/python3.8/dist-packages (from nltk) (4.64.1)\n",
            "Requirement already satisfied: click in /usr/local/lib/python3.8/dist-packages (from nltk) (7.1.2)\n",
            "Requirement already satisfied: regex>=2021.8.3 in /usr/local/lib/python3.8/dist-packages (from nltk) (2022.6.2)\n",
            "Requirement already satisfied: joblib in /usr/local/lib/python3.8/dist-packages (from nltk) (1.2.0)\n"
          ]
        }
      ]
    },
    {
      "cell_type": "code",
      "source": [
        "import nltk\n",
        "\n",
        "from nltk.corpus import stopwords\n",
        "english_stopwords = stopwords.words(\"english\")"
      ],
      "metadata": {
        "trusted": true,
        "id": "66eWpY76TdHh"
      },
      "execution_count": 9,
      "outputs": []
    },
    {
      "cell_type": "code",
      "source": [
        "filtered_words = []\n",
        "for count, word in sorted_counts:\n",
        "  if word not in english_stopwords:\n",
        "    filtered_words.append((word, count))"
      ],
      "metadata": {
        "id": "M2bpvFibTdHi"
      },
      "execution_count": 10,
      "outputs": []
    },
    {
      "cell_type": "code",
      "source": [
        "filtered_words[:10]"
      ],
      "metadata": {
        "colab": {
          "base_uri": "https://localhost:8080/"
        },
        "id": "-i9p3eOyTdHi",
        "outputId": "76371d9e-a9ab-4948-e8a4-a7f789c77879"
      },
      "execution_count": 13,
      "outputs": [
        {
          "output_type": "execute_result",
          "data": {
            "text/plain": [
              "[('would', 575),\n",
              " ('us', 519),\n",
              " ('said', 292),\n",
              " ('roberto', 284),\n",
              " ('could', 252),\n",
              " ('one', 249),\n",
              " ('snow', 227),\n",
              " ('mountain', 183),\n",
              " ('time', 182),\n",
              " ('like', 165)]"
            ]
          },
          "metadata": {},
          "execution_count": 13
        }
      ]
    },
    {
      "cell_type": "markdown",
      "source": [
        "#Sentiment Analysis: What is the most positive and most negative chapter?"
      ],
      "metadata": {
        "id": "jxm-hY4jVPIT"
      }
    },
    {
      "cell_type": "code",
      "source": [
        "from nltk.sentiment import SentimentIntensityAnalyzer\n",
        "nltk.download('vader_lexicon')"
      ],
      "metadata": {
        "colab": {
          "base_uri": "https://localhost:8080/"
        },
        "id": "TL4Do9mvVe1c",
        "outputId": "55726198-48cb-48ee-9807-b32439cee780"
      },
      "execution_count": 21,
      "outputs": [
        {
          "output_type": "stream",
          "name": "stderr",
          "text": [
            "[nltk_data] Downloading package vader_lexicon to /root/nltk_data...\n"
          ]
        },
        {
          "output_type": "execute_result",
          "data": {
            "text/plain": [
              "True"
            ]
          },
          "metadata": {},
          "execution_count": 21
        }
      ]
    },
    {
      "cell_type": "code",
      "source": [
        "analyzer = SentimentIntensityAnalyzer()"
      ],
      "metadata": {
        "id": "121aEB9TVmKG"
      },
      "execution_count": 22,
      "outputs": []
    },
    {
      "cell_type": "code",
      "source": [
        "analyzer.polarity_scores(book)"
      ],
      "metadata": {
        "colab": {
          "base_uri": "https://localhost:8080/"
        },
        "id": "EPS-3SGnVpFm",
        "outputId": "eed509f7-3075-4451-d80e-fc8b25081a78"
      },
      "execution_count": 26,
      "outputs": [
        {
          "output_type": "execute_result",
          "data": {
            "text/plain": [
              "{'neg': 0.116, 'neu': 0.76, 'pos': 0.125, 'compound': 1.0}"
            ]
          },
          "metadata": {},
          "execution_count": 26
        }
      ]
    },
    {
      "cell_type": "markdown",
      "source": [
        "## Chapters sentiment analysis"
      ],
      "metadata": {
        "id": "mqMBf__WWol-"
      }
    },
    {
      "cell_type": "code",
      "source": [
        "import re \n",
        "pattern = re.compile(\"Chapter [0-9]+\")\n",
        "chapters = re.split(pattern, book)"
      ],
      "metadata": {
        "id": "D1a6FvQiV2qU"
      },
      "execution_count": 27,
      "outputs": []
    },
    {
      "cell_type": "code",
      "source": [
        "chapters = chapters[1:]"
      ],
      "metadata": {
        "id": "t6pfmVZ1W8bI"
      },
      "execution_count": 29,
      "outputs": []
    },
    {
      "cell_type": "code",
      "source": [
        "for num, chapter in enumerate(chapters):\n",
        "  print(num + 1, analyzer.polarity_scores(chapter))"
      ],
      "metadata": {
        "colab": {
          "base_uri": "https://localhost:8080/"
        },
        "id": "opIKxiHXW_uv",
        "outputId": "139a4f6f-8453-4ee5-c27b-05f0b4dac529"
      },
      "execution_count": 31,
      "outputs": [
        {
          "output_type": "stream",
          "name": "stdout",
          "text": [
            "1 {'neg': 0.061, 'neu': 0.779, 'pos': 0.16, 'compound': 1.0}\n",
            "2 {'neg': 0.12, 'neu': 0.726, 'pos': 0.154, 'compound': 0.9991}\n",
            "3 {'neg': 0.145, 'neu': 0.751, 'pos': 0.105, 'compound': -0.9999}\n",
            "4 {'neg': 0.141, 'neu': 0.721, 'pos': 0.138, 'compound': -0.9963}\n",
            "5 {'neg': 0.118, 'neu': 0.742, 'pos': 0.141, 'compound': 0.9997}\n",
            "6 {'neg': 0.124, 'neu': 0.761, 'pos': 0.115, 'compound': -0.9979}\n",
            "7 {'neg': 0.136, 'neu': 0.761, 'pos': 0.103, 'compound': -0.9999}\n",
            "8 {'neg': 0.12, 'neu': 0.786, 'pos': 0.094, 'compound': -0.9998}\n",
            "9 {'neg': 0.097, 'neu': 0.824, 'pos': 0.079, 'compound': -0.9996}\n",
            "10 {'neg': 0.086, 'neu': 0.733, 'pos': 0.181, 'compound': 1.0}\n"
          ]
        }
      ]
    }
  ]
}